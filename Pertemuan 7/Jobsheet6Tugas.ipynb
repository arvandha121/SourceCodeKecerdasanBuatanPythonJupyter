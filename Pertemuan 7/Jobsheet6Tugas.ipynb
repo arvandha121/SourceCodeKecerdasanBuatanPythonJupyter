{
 "cells": [
  {
   "cell_type": "code",
   "execution_count": 15,
   "id": "a3c0186e",
   "metadata": {},
   "outputs": [
    {
     "name": "stdout",
     "output_type": "stream",
     "text": [
      "['ita', 'fendi', 'rofi', 'setya']\n",
      "\n",
      "['rofi', 'setya']\n",
      "\n"
     ]
    }
   ],
   "source": [
    "this_family = {\n",
    "    'farhan' : ['lutfi'],\n",
    "    'arfan' : ['lutfi'],\n",
    "    'naura' : ['andin'],\n",
    "    'lutfi' : ['didik', 'anik'],\n",
    "    'andin' : ['didik', 'anik'],\n",
    "    'didik' : ['lutfi', 'andin'],\n",
    "    'anik' : ['rofi', 'setya'],\n",
    "    'hanan' : ['lies'],\n",
    "    'lies' : ['rofi', 'setya'],\n",
    "    'vano' : ['ita', 'fendi'],\n",
    "    'lia' : ['ita', 'fendi'],\n",
    "    'fendi' : ['rofi', 'setya']\n",
    "}\n",
    "\n",
    "def ancestors(genealogy, person):\n",
    "    list_of_ancestors=[]\n",
    "    \n",
    "    if person in genealogy:\n",
    "        list_of_ancestors=genealogy[person]\n",
    "        for e in genealogy[person]:\n",
    "            for i in ancestors(genealogy,e):\n",
    "                if i not in list_of_ancestors:\n",
    "                    list_of_ancestors+=ancestors(genealogy,e)\n",
    "    else:\n",
    "        list_of_ancestors+=[]\n",
    "    return list_of_ancestors\n",
    "\n",
    "print(ancestors(this_family, 'lia'))\n",
    "print()\n",
    "\n",
    "print(ancestors(this_family, 'anik'))\n",
    "print()"
   ]
  },
  {
   "cell_type": "code",
   "execution_count": null,
   "id": "8ea263aa",
   "metadata": {},
   "outputs": [],
   "source": []
  }
 ],
 "metadata": {
  "kernelspec": {
   "display_name": "Python 3",
   "language": "python",
   "name": "python3"
  },
  "language_info": {
   "codemirror_mode": {
    "name": "ipython",
    "version": 3
   },
   "file_extension": ".py",
   "mimetype": "text/x-python",
   "name": "python",
   "nbconvert_exporter": "python",
   "pygments_lexer": "ipython3",
   "version": "3.8.8"
  }
 },
 "nbformat": 4,
 "nbformat_minor": 5
}
