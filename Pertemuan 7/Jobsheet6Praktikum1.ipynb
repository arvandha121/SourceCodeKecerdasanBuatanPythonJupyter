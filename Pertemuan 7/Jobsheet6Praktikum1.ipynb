{
 "cells": [
  {
   "cell_type": "code",
   "execution_count": 1,
   "id": "5a823f6f",
   "metadata": {},
   "outputs": [
    {
     "name": "stdout",
     "output_type": "stream",
     "text": [
      "['Anne Isabella Milbanke', 'George Gordon Bryon', 'Catherine Gordon', 'Captain John Bryon', 'Vice-Admiral John Bryon', 'Sophia Trevannioni']\n",
      "\n",
      "['Anne Isabella Blunt', 'Wilfrid Scawen Blunt', 'Augusta Ada King', 'William King-Noel', 'Anne Isabella Milbanke', 'George Gordon Bryon', 'Catherine Gordon', 'Captain John Bryon', 'Vice-Admiral John Bryon', 'Sophia Trevannioni']\n",
      "\n",
      "[]\n"
     ]
    }
   ],
   "source": [
    "ada_family = {\n",
    "    'Judith Blunt-Lytton' : ['Anne Isabella Blunt', 'Wilfrid Scawen Blunt'],\n",
    "    'Ada King-Milbanke' : ['Ralph King-Milbanke', 'Fanny Herioti'],\n",
    "    'Ralph King-Milbanke' : ['Augusta Ada King', 'William King-Noel'],\n",
    "    'Anne Isabella Blunt' : ['Augusta Ada King', 'William King-Noel'],\n",
    "    'Bryon King-Noel' : ['Augusta Ada King', 'William King-Noel'],\n",
    "    'Augusta Ada King' : ['Anne Isabella Milbanke', 'George Gordon Bryon'],\n",
    "    'George Gordon Bryon' : ['Catherine Gordon', 'Captain John Bryon'],\n",
    "    'Captain John Bryon' : ['Vice-Admiral John Bryon', 'Sophia Trevannioni']\n",
    "}\n",
    "\n",
    "def ancestors(genealogy, person):\n",
    "    list_of_ancestors=[]\n",
    "    \n",
    "    if person in genealogy:\n",
    "        list_of_ancestors=genealogy[person]\n",
    "        for e in genealogy[person]:\n",
    "            for i in ancestors(genealogy,e):\n",
    "                if i not in list_of_ancestors:\n",
    "                    list_of_ancestors+=ancestors(genealogy,e)\n",
    "    else:\n",
    "        list_of_ancestors+=[]\n",
    "    return list_of_ancestors\n",
    "\n",
    "print(ancestors(ada_family, 'Augusta Ada King'))\n",
    "print()\n",
    "\n",
    "print(ancestors(ada_family, 'Judith Blunt-Lytton'))\n",
    "print()\n",
    "\n",
    "print(ancestors(ada_family, 'Dave'))"
   ]
  },
  {
   "cell_type": "code",
   "execution_count": null,
   "id": "01afa20a",
   "metadata": {},
   "outputs": [],
   "source": []
  }
 ],
 "metadata": {
  "kernelspec": {
   "display_name": "Python 3",
   "language": "python",
   "name": "python3"
  },
  "language_info": {
   "codemirror_mode": {
    "name": "ipython",
    "version": 3
   },
   "file_extension": ".py",
   "mimetype": "text/x-python",
   "name": "python",
   "nbconvert_exporter": "python",
   "pygments_lexer": "ipython3",
   "version": "3.8.8"
  }
 },
 "nbformat": 4,
 "nbformat_minor": 5
}
