{
 "cells": [
  {
   "cell_type": "code",
   "execution_count": 1,
   "id": "84083f19",
   "metadata": {},
   "outputs": [],
   "source": [
    "graph = {\n",
    "    'A' : ['B','E','F'],\n",
    "    'B' : ['A','F','G'],\n",
    "    'C' : ['D','G'],\n",
    "    'D' : ['C','H'],\n",
    "    'E' : ['A','F'],\n",
    "    'F' : ['A','B','E'],\n",
    "    'G' : ['C','H'],\n",
    "    'H' : ['D','G']\n",
    "}"
   ]
  },
  {
   "cell_type": "code",
   "execution_count": 2,
   "id": "c3485026",
   "metadata": {},
   "outputs": [],
   "source": [
    "visited = set()"
   ]
  },
  {
   "cell_type": "code",
   "execution_count": 3,
   "id": "843fd85c",
   "metadata": {},
   "outputs": [],
   "source": [
    "def dfs(visited, graph, node):\n",
    "    if node not in visited:\n",
    "        print(node)\n",
    "        visited.add(node)\n",
    "        for neighbour in graph[node]:\n",
    "            dfs(visited, graph, neighbour)"
   ]
  },
  {
   "cell_type": "code",
   "execution_count": 4,
   "id": "98da7570",
   "metadata": {},
   "outputs": [
    {
     "name": "stdout",
     "output_type": "stream",
     "text": [
      "Hasil penulusuran graf menggunakan DFS:\n",
      "A\n",
      "B\n",
      "F\n",
      "E\n",
      "G\n",
      "C\n",
      "D\n",
      "H\n"
     ]
    }
   ],
   "source": [
    "print(\"Hasil penulusuran graf menggunakan DFS:\")\n",
    "dfs(visited, graph, 'A')"
   ]
  },
  {
   "cell_type": "code",
   "execution_count": null,
   "id": "08233647",
   "metadata": {},
   "outputs": [],
   "source": []
  }
 ],
 "metadata": {
  "kernelspec": {
   "display_name": "Python 3",
   "language": "python",
   "name": "python3"
  },
  "language_info": {
   "codemirror_mode": {
    "name": "ipython",
    "version": 3
   },
   "file_extension": ".py",
   "mimetype": "text/x-python",
   "name": "python",
   "nbconvert_exporter": "python",
   "pygments_lexer": "ipython3",
   "version": "3.8.8"
  }
 },
 "nbformat": 4,
 "nbformat_minor": 5
}
