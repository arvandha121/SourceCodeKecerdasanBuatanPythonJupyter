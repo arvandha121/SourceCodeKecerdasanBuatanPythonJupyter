{
 "cells": [
  {
   "cell_type": "code",
   "execution_count": 1,
   "id": "7a546662",
   "metadata": {},
   "outputs": [],
   "source": [
    "graph = {\n",
    "    'A' : ['B'],\n",
    "    'B' : ['A','F','G'],\n",
    "    'C' : ['D','G'],\n",
    "    'D' : ['C','H'],\n",
    "    'E' : ['F'],\n",
    "    'F' : ['B','E'],\n",
    "    'G' : ['B','C'],\n",
    "    'H' : ['D'],\n",
    "}"
   ]
  },
  {
   "cell_type": "code",
   "execution_count": 3,
   "id": "97cd814e",
   "metadata": {},
   "outputs": [],
   "source": [
    "from queue import *"
   ]
  },
  {
   "cell_type": "code",
   "execution_count": 4,
   "id": "e0b665c7",
   "metadata": {},
   "outputs": [],
   "source": [
    "visited = {}\n",
    "level = {}\n",
    "parent = {}\n",
    "bfs = []\n",
    "queue = Queue()"
   ]
  },
  {
   "cell_type": "code",
   "execution_count": 5,
   "id": "8f8bc6eb",
   "metadata": {},
   "outputs": [],
   "source": [
    "for node in graph.keys():\n",
    "    visited[node] = False\n",
    "    parent[node] = None\n",
    "    level[node] = -1"
   ]
  },
  {
   "cell_type": "code",
   "execution_count": 13,
   "id": "c570a0a6",
   "metadata": {},
   "outputs": [],
   "source": [
    "s = 'A'\n",
    "visited[s] = True\n",
    "level[s] = 0\n",
    "queue.put(s)\n",
    "\n",
    "while not queue.empty():\n",
    "    q = queue.get()\n",
    "    bfs.append(q)\n",
    "    \n",
    "    for a in graph[q]:\n",
    "        if not visited[a]:\n",
    "            visited[a] = True\n",
    "            parent[a] = q\n",
    "            level[a] = level[q]+1\n",
    "            queue.put(a)"
   ]
  },
  {
   "cell_type": "code",
   "execution_count": 15,
   "id": "45d047f8",
   "metadata": {},
   "outputs": [
    {
     "name": "stdout",
     "output_type": "stream",
     "text": [
      "Hasil penelurusan graf mengunakan BFS : \n",
      "['A', 'B', 'F', 'G', 'E', 'C', 'D', 'H', 'A']\n",
      "\n",
      "Hasil penelusuran haruf graf mengunakan BFS :  ['A', 'B', 'G', 'C', 'D']\n"
     ]
    }
   ],
   "source": [
    "print(\"Hasil penelurusan graf mengunakan BFS : \")\n",
    "\n",
    "#print Node\n",
    "print(bfs)\n",
    "\n",
    "a = \"D\"\n",
    "path = []\n",
    "while a is not None:\n",
    "    path.append(a)\n",
    "    a = parent[a]\n",
    "path.reverse()\n",
    "\n",
    "# print path D\n",
    "print(\"\\nHasil penelusuran haruf graf mengunakan BFS : \", path)"
   ]
  },
  {
   "cell_type": "code",
   "execution_count": null,
   "id": "6f288469",
   "metadata": {},
   "outputs": [],
   "source": []
  }
 ],
 "metadata": {
  "kernelspec": {
   "display_name": "Python 3",
   "language": "python",
   "name": "python3"
  },
  "language_info": {
   "codemirror_mode": {
    "name": "ipython",
    "version": 3
   },
   "file_extension": ".py",
   "mimetype": "text/x-python",
   "name": "python",
   "nbconvert_exporter": "python",
   "pygments_lexer": "ipython3",
   "version": "3.8.8"
  }
 },
 "nbformat": 4,
 "nbformat_minor": 5
}
