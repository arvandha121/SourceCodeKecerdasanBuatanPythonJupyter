{
 "cells": [
  {
   "cell_type": "code",
   "execution_count": 17,
   "id": "fa45260c",
   "metadata": {},
   "outputs": [],
   "source": [
    "graph = {\n",
    "    'A' : ['B','E','F'],\n",
    "    'B' : ['A','F','G'],\n",
    "    'C' : ['D','G'],\n",
    "    'D' : ['C','H'],\n",
    "    'E' : ['A','F'],\n",
    "    'F' : ['A','B','E'],\n",
    "    'G' : ['B','C','H'],\n",
    "    'H' : ['D','G']\n",
    "}"
   ]
  },
  {
   "cell_type": "code",
   "execution_count": 18,
   "id": "29263913",
   "metadata": {},
   "outputs": [],
   "source": [
    "visited = [] #list to keep track of visited nodes\n",
    "queue = [] #Initialize a queue"
   ]
  },
  {
   "cell_type": "code",
   "execution_count": 19,
   "id": "74a6e41a",
   "metadata": {},
   "outputs": [],
   "source": [
    "def bfs(visited, graph, node):\n",
    "    visited.append(node)\n",
    "    queue.append(node)\n",
    "    \n",
    "    while queue:\n",
    "        s = queue.pop(0)\n",
    "        print(s, end = \" \")\n",
    "        \n",
    "        for neighbour in graph[s]:\n",
    "            if neighbour not in visited:\n",
    "                visited.append(neighbour)\n",
    "                queue.append(neighbour)"
   ]
  },
  {
   "cell_type": "code",
   "execution_count": 20,
   "id": "5bd89845",
   "metadata": {},
   "outputs": [
    {
     "name": "stdout",
     "output_type": "stream",
     "text": [
      "Hasil penulusuran graf menggunakan BFS:\n",
      "A B E F G C H D "
     ]
    }
   ],
   "source": [
    "print(\"Hasil penulusuran graf menggunakan BFS:\")\n",
    "bfs(visited, graph, 'A')"
   ]
  },
  {
   "cell_type": "code",
   "execution_count": null,
   "id": "8a7d369c",
   "metadata": {},
   "outputs": [],
   "source": []
  }
 ],
 "metadata": {
  "kernelspec": {
   "display_name": "Python 3",
   "language": "python",
   "name": "python3"
  },
  "language_info": {
   "codemirror_mode": {
    "name": "ipython",
    "version": 3
   },
   "file_extension": ".py",
   "mimetype": "text/x-python",
   "name": "python",
   "nbconvert_exporter": "python",
   "pygments_lexer": "ipython3",
   "version": "3.8.8"
  }
 },
 "nbformat": 4,
 "nbformat_minor": 5
}
