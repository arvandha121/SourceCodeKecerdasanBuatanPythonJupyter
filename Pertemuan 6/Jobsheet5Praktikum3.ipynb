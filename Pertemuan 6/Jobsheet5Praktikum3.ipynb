{
 "cells": [
  {
   "cell_type": "code",
   "execution_count": 1,
   "id": "d4e0d00e",
   "metadata": {},
   "outputs": [
    {
     "name": "stdout",
     "output_type": "stream",
     "text": [
      "9\n",
      "8\n",
      "3\n",
      "Optimal dalam Bobot prioritas : 23\n",
      "None\n",
      "None\n"
     ]
    }
   ],
   "source": [
    "from operator import itemgetter,attrgetter\n",
    "w =[3,4,1,7,6,8,9]\n",
    "p =[4,5,2,5,5,6,8,11]\n",
    "item =[[3,4],[4,5],[1,2],[7,5],[6,5],[8,8],[9,11]]\n",
    "\n",
    "i=0\n",
    "while i<len(item):\n",
    "    hasil = item[i][1]/item[i][0]\n",
    "    item[i].append(hasil)\n",
    "    i += 1\n",
    "    \n",
    "data = sorted(item,key=itemgetter(2), reverse = True)\n",
    "\n",
    "def knapsack(data,cap,flag):\n",
    "    total=0\n",
    "    tres = \"\"\n",
    "    if(flag==0):\n",
    "        total=0\n",
    "        tres = \"\"\n",
    "        if(flag==0):\n",
    "            dataS = sorted(data,key=itemgetter(flag), reverse = True)\n",
    "            tres=\"Bobot prioritas : \"\n",
    "        elif(flag==1):\n",
    "            dataS = sorted(data,key=itemgetter(flag), reverse= True)\n",
    "            tres=\"Keuntungan prioritas : \"\n",
    "        elif(flag==2):\n",
    "            dataS = sorted(data,key=itemgetter(flag), reverse= True)\n",
    "            tres=\"p prioritas : \"\n",
    "        else:\n",
    "            return \"Error\"\n",
    "        j=0\n",
    "        hasil=0\n",
    "        #print(\"sini\")\n",
    "        cek=0\n",
    "        weight=0\n",
    "        while(j<len(dataS)):\n",
    "    \n",
    "            if(cek+dataS[j][0]<=cap):\n",
    "                hasil=hasil+dataS[j][1]\n",
    "                weight=weight+dataS[j][0]\n",
    "                print(dataS[j][0])\n",
    "            cek= weight\n",
    "            j+=1;\n",
    "            #print(\"here\")\n",
    "        return(\"Optimal dalam \" + str(tres)+str(hasil))\n",
    "\n",
    "print(knapsack(item,20,0))\n",
    "print(knapsack(item,20,1)) \n",
    "print(knapsack(item,20,2))"
   ]
  },
  {
   "cell_type": "code",
   "execution_count": null,
   "id": "4b6ae863",
   "metadata": {},
   "outputs": [],
   "source": []
  }
 ],
 "metadata": {
  "kernelspec": {
   "display_name": "Python 3",
   "language": "python",
   "name": "python3"
  },
  "language_info": {
   "codemirror_mode": {
    "name": "ipython",
    "version": 3
   },
   "file_extension": ".py",
   "mimetype": "text/x-python",
   "name": "python",
   "nbconvert_exporter": "python",
   "pygments_lexer": "ipython3",
   "version": "3.8.8"
  }
 },
 "nbformat": 4,
 "nbformat_minor": 5
}
