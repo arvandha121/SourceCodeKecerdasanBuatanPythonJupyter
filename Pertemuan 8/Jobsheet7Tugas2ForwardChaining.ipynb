{
 "cells": [
  {
   "cell_type": "code",
   "execution_count": 1,
   "id": "aa7e3a3b",
   "metadata": {},
   "outputs": [
    {
     "name": "stdout",
     "output_type": "stream",
     "text": [
      "[['A', 10000], ['B', 25], ['C', 'Collage'], ['E', 'Asuransi'], ['F', 'Growth Stock'], ['G', 'IBM']]\n"
     ]
    }
   ],
   "source": [
    "global facts\n",
    "global is_changed\n",
    "\n",
    "is_changed = True\n",
    "facts = [[\"A\",10000],[\"B\",25]]\n",
    "\n",
    "def assert_fact(fact):\n",
    "    global facts\n",
    "    global is_changed\n",
    "    if not fact in facts:\n",
    "        facts += [fact]\n",
    "        is_changed = True\n",
    "        \n",
    "while is_changed:\n",
    "    is_changed = False\n",
    "    for A1 in facts:\n",
    "        if A1[0] == \"A\" and A1[1] >= 10000 and [\"C\",\"Collage\"] in facts:\n",
    "            assert_fact([\"E\",\"Asuransi\"])\n",
    "        if A1[0] == \"D\" and A1[1] >= 40000 and [\"C\",\"Collage\"] in facts:\n",
    "            assert_fact([\"F\",\"Growth Stock\"])\n",
    "        if A1[0] == \"B\" and A1[1] < 30 and [\"E\",\"Asuransi\"] in facts:\n",
    "            assert_fact([\"F\",\"Growth Stock\"])\n",
    "        if A1[0] == \"B\" and A1[1] < 30 and A1[1] > 22:\n",
    "            assert_fact([\"C\",\"Collage\"])\n",
    "        if [\"F\",\"Growth Stock\"] in facts:\n",
    "            assert_fact([\"G\",\"IBM\"])\n",
    "print(facts)"
   ]
  },
  {
   "cell_type": "code",
   "execution_count": null,
   "id": "d7f000a5",
   "metadata": {},
   "outputs": [],
   "source": []
  }
 ],
 "metadata": {
  "kernelspec": {
   "display_name": "Python 3",
   "language": "python",
   "name": "python3"
  },
  "language_info": {
   "codemirror_mode": {
    "name": "ipython",
    "version": 3
   },
   "file_extension": ".py",
   "mimetype": "text/x-python",
   "name": "python",
   "nbconvert_exporter": "python",
   "pygments_lexer": "ipython3",
   "version": "3.8.8"
  }
 },
 "nbformat": 4,
 "nbformat_minor": 5
}
