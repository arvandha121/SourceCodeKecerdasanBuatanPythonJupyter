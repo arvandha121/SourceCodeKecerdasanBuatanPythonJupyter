{
 "cells": [
  {
   "cell_type": "code",
   "execution_count": 1,
   "id": "52287338",
   "metadata": {},
   "outputs": [
    {
     "data": {
      "text/plain": [
       "'0b1010'"
      ]
     },
     "execution_count": 1,
     "metadata": {},
     "output_type": "execute_result"
    }
   ],
   "source": [
    "#Mengubah desimal ke binair\n",
    "\n",
    "bin(10)"
   ]
  },
  {
   "cell_type": "code",
   "execution_count": 2,
   "id": "6af387f8",
   "metadata": {},
   "outputs": [
    {
     "data": {
      "text/plain": [
       "10"
      ]
     },
     "execution_count": 2,
     "metadata": {},
     "output_type": "execute_result"
    }
   ],
   "source": [
    "#Mengubah binair ke desimal\n",
    "\n",
    "int(0b1010)"
   ]
  },
  {
   "cell_type": "code",
   "execution_count": 3,
   "id": "a4f07e23",
   "metadata": {},
   "outputs": [
    {
     "name": "stdout",
     "output_type": "stream",
     "text": [
      "0b1010\n",
      "10\n"
     ]
    }
   ],
   "source": [
    "#syntax lai mengubah desimal ke binair maupun sebaliknya di python\n",
    "\n",
    "a = 10\n",
    "bin_a = bin(a)\n",
    "print(bin_a)\n",
    "print(int(bin_a,2))"
   ]
  },
  {
   "cell_type": "code",
   "execution_count": 4,
   "id": "818d916f",
   "metadata": {},
   "outputs": [],
   "source": [
    "#TUGAS 1.4.4"
   ]
  },
  {
   "cell_type": "code",
   "execution_count": 13,
   "id": "c7da1dc7",
   "metadata": {},
   "outputs": [
    {
     "name": "stdout",
     "output_type": "stream",
     "text": [
      "100 in octal =  0o144\n",
      "144 in descimal =  100\n"
     ]
    }
   ],
   "source": [
    "#Merubah desimal ke bilangan oktal, dan maupun sebaliknya\n",
    "\n",
    "#desimal ke oktal\n",
    "desi = 100\n",
    "okt = oct(desi)\n",
    "print(desi,'in octal = ',okt)\n",
    "\n",
    "#oktal ke desimal\n",
    "okt2 = '144'\n",
    "desi2 = int(okt2,8)\n",
    "print(okt2,'in descimal = ',desi2)"
   ]
  },
  {
   "cell_type": "code",
   "execution_count": 15,
   "id": "2720d52d",
   "metadata": {},
   "outputs": [
    {
     "name": "stdout",
     "output_type": "stream",
     "text": [
      "100 in hexa =  0x64\n",
      "64 in decima; =  100\n"
     ]
    }
   ],
   "source": [
    "#Merubah desimal ke bilangan hexa, dan maupun sebaliknya\n",
    "\n",
    "#decimal ke hexa\n",
    "desi = 100\n",
    "hexa = hex(desi)\n",
    "print(desi,'in hexa = ',hexa)\n",
    "\n",
    "#hexa ke decimal\n",
    "hexa2 = '64'\n",
    "desi2 = int(hexa2,16)\n",
    "print(hexa2,'in decima; = ',desi2)"
   ]
  },
  {
   "cell_type": "code",
   "execution_count": 25,
   "id": "df66c491",
   "metadata": {},
   "outputs": [
    {
     "name": "stdout",
     "output_type": "stream",
     "text": [
      "1100100 in octal =  0o144\n",
      "144 in binary =  0b1100100\n"
     ]
    }
   ],
   "source": [
    "#Merubah binair ke bilangan octal, dan maupun sebaliknya\n",
    "\n",
    "#binair ke octal\n",
    "binar = '1100100'\n",
    "binarx = int(binar,2)\n",
    "octa = oct(binarx)\n",
    "print(binar,'in octal = ',octa)\n",
    "\n",
    "#octal ke binair\n",
    "octa2 = '144'\n",
    "binar2 = str(int(octa2,8))\n",
    "desm = int(binar2)\n",
    "print(octa2,'in binary = ',bin(desm))"
   ]
  },
  {
   "cell_type": "code",
   "execution_count": 26,
   "id": "6d3deaeb",
   "metadata": {},
   "outputs": [
    {
     "name": "stdout",
     "output_type": "stream",
     "text": [
      "1100100 in octal =  0x64\n",
      "64 in binary =  0b110100\n"
     ]
    }
   ],
   "source": [
    "#Merubah binair ke bilangan hexa, dan maupun sebaliknya\n",
    "\n",
    "#binair ke hexa\n",
    "binar = '1100100'\n",
    "binarx = int(binar,2)\n",
    "hexa = hex(binarx)\n",
    "print(binar,'in octal = ',hexa)\n",
    "\n",
    "#hexa ke binair\n",
    "hexa2 = '64'\n",
    "binar2 = str(int(hexa2,8))\n",
    "desm = int(binar2)\n",
    "print(hexa2,'in binary = ',bin(desm))"
   ]
  },
  {
   "cell_type": "code",
   "execution_count": 27,
   "id": "83cb089c",
   "metadata": {},
   "outputs": [
    {
     "name": "stdout",
     "output_type": "stream",
     "text": [
      "645 in binary =  0x1a5\n",
      "1A5 in octal =  0o645\n"
     ]
    }
   ],
   "source": [
    "#Merubah octal ke bilangan hexa, dan maupun sebaliknya\n",
    "\n",
    "#octal ke hexa\n",
    "octal = '645'\n",
    "octalx = str(int(octal,8))\n",
    "hexa = int(octalx)\n",
    "print(octal,'in binary = ',hex(hexa))\n",
    "\n",
    "#hexa ke octal\n",
    "hexa2 = '1A5'\n",
    "octal2 = int(hexa2,16)\n",
    "print(hexa2,'in octal = ',oct(octal2))"
   ]
  },
  {
   "cell_type": "code",
   "execution_count": null,
   "id": "a8408849",
   "metadata": {},
   "outputs": [],
   "source": []
  }
 ],
 "metadata": {
  "kernelspec": {
   "display_name": "Python 3",
   "language": "python",
   "name": "python3"
  },
  "language_info": {
   "codemirror_mode": {
    "name": "ipython",
    "version": 3
   },
   "file_extension": ".py",
   "mimetype": "text/x-python",
   "name": "python",
   "nbconvert_exporter": "python",
   "pygments_lexer": "ipython3",
   "version": "3.8.8"
  }
 },
 "nbformat": 4,
 "nbformat_minor": 5
}
