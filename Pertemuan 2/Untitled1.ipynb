{
 "cells": [
  {
   "cell_type": "code",
   "execution_count": 3,
   "id": "765e1ea9",
   "metadata": {},
   "outputs": [],
   "source": [
    "import numpy as np\n",
    "import skfuzzy as fuzz\n",
    "from skfuzzy import control as ctrl\n",
    "import matplotlib.pyplot as plt"
   ]
  },
  {
   "cell_type": "code",
   "execution_count": 4,
   "id": "e2a1884f",
   "metadata": {},
   "outputs": [],
   "source": [
    "#The universe of variable and membership functions\n",
    "PTMB1 = ctrl.Antecedent(np.arange(0, 245, 1), 'PTMB1')"
   ]
  },
  {
   "cell_type": "code",
   "execution_count": 5,
   "id": "7a5a5784",
   "metadata": {},
   "outputs": [],
   "source": [
    "PTMB1['sedikit'] = fuzz.trapmf(PTMB1.universe, [0,0,10,100])\n",
    "PTMB1['sedang'] = fuzz.trimf(PTMB1.universe, [100,125,133])\n",
    "PTMB1['tinggi'] = fuzz.trimf(PTMB1.universe, [133,217,240])"
   ]
  },
  {
   "cell_type": "code",
   "execution_count": null,
   "id": "57bf5dff",
   "metadata": {},
   "outputs": [],
   "source": []
  }
 ],
 "metadata": {
  "kernelspec": {
   "display_name": "Python 3",
   "language": "python",
   "name": "python3"
  },
  "language_info": {
   "codemirror_mode": {
    "name": "ipython",
    "version": 3
   },
   "file_extension": ".py",
   "mimetype": "text/x-python",
   "name": "python",
   "nbconvert_exporter": "python",
   "pygments_lexer": "ipython3",
   "version": "3.8.8"
  }
 },
 "nbformat": 4,
 "nbformat_minor": 5
}
