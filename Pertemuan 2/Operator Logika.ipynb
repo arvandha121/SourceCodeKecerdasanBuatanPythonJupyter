{
 "cells": [
  {
   "cell_type": "code",
   "execution_count": 1,
   "id": "ad776140",
   "metadata": {},
   "outputs": [
    {
     "name": "stdout",
     "output_type": "stream",
     "text": [
      "True False False\n",
      "True False True\n",
      "True False\n"
     ]
    }
   ],
   "source": [
    "a = True\n",
    "b = False\n",
    "\n",
    "#Logika AND\n",
    "c = a and b\n",
    "print(a,b,c)\n",
    "\n",
    "#Logika OR\n",
    "c = a or b\n",
    "print(a,b,c)\n",
    "\n",
    "#Logika Not\n",
    "c = not a\n",
    "print(a,c)"
   ]
  },
  {
   "cell_type": "code",
   "execution_count": 2,
   "id": "97706a46",
   "metadata": {},
   "outputs": [],
   "source": [
    "#Contoh Praktikum Operator Logika Menggunakan Python"
   ]
  },
  {
   "cell_type": "code",
   "execution_count": 3,
   "id": "45c69692",
   "metadata": {},
   "outputs": [],
   "source": [
    "a = 0b00111100\n",
    "b = 0b00001101"
   ]
  },
  {
   "cell_type": "code",
   "execution_count": 4,
   "id": "a83c9491",
   "metadata": {},
   "outputs": [
    {
     "data": {
      "text/plain": [
       "12"
      ]
     },
     "execution_count": 4,
     "metadata": {},
     "output_type": "execute_result"
    }
   ],
   "source": [
    "#Operasi AND\n",
    "a = 0b00111100\n",
    "b = 0b00001101\n",
    "a & b"
   ]
  },
  {
   "cell_type": "code",
   "execution_count": 5,
   "id": "a8742026",
   "metadata": {},
   "outputs": [
    {
     "data": {
      "text/plain": [
       "61"
      ]
     },
     "execution_count": 5,
     "metadata": {},
     "output_type": "execute_result"
    }
   ],
   "source": [
    "#Operasi OR\n",
    "a = 0b00111100\n",
    "b = 0b00001101\n",
    "a | b"
   ]
  },
  {
   "cell_type": "code",
   "execution_count": 6,
   "id": "c7be0ddb",
   "metadata": {},
   "outputs": [
    {
     "data": {
      "text/plain": [
       "49"
      ]
     },
     "execution_count": 6,
     "metadata": {},
     "output_type": "execute_result"
    }
   ],
   "source": [
    "#Operasi XOR\n",
    "a = 0b00111100\n",
    "b = 0b00001101\n",
    "a ^ b"
   ]
  },
  {
   "cell_type": "code",
   "execution_count": 7,
   "id": "585c476f",
   "metadata": {},
   "outputs": [
    {
     "data": {
      "text/plain": [
       "-61"
      ]
     },
     "execution_count": 7,
     "metadata": {},
     "output_type": "execute_result"
    }
   ],
   "source": [
    "#Operasi Not\n",
    "~a"
   ]
  },
  {
   "cell_type": "code",
   "execution_count": 3,
   "id": "3504ce10",
   "metadata": {},
   "outputs": [],
   "source": [
    "#TUGAS 1.5.2"
   ]
  },
  {
   "cell_type": "code",
   "execution_count": 4,
   "id": "d6ac6ef1",
   "metadata": {},
   "outputs": [
    {
     "name": "stdout",
     "output_type": "stream",
     "text": [
      "------------------------\n",
      "OPERASI AND\n",
      "------------------------\n",
      "Desimal =  12\n",
      "Binary =  0b1100\n"
     ]
    }
   ],
   "source": [
    "#1. Hasil dari Percobaan 2 diatas ditampilkan dalam bentuk bilangan desimal.Lakukan kembali keempat operasi diatas (AND, OR, XOR, NOT) dengan menampilkan hasilnya dalam bentuk biner?\n",
    "\n",
    "a = 60\n",
    "b = 13\n",
    "\n",
    "#Operasi AND\n",
    "odes = a & b\n",
    "obin = bin(odes)\n",
    "print('------------------------')\n",
    "print('OPERASI AND')\n",
    "print('------------------------')\n",
    "print('Desimal = ',odes)\n",
    "print('Binary = ',obin)"
   ]
  },
  {
   "cell_type": "code",
   "execution_count": 6,
   "id": "31823cec",
   "metadata": {},
   "outputs": [
    {
     "name": "stdout",
     "output_type": "stream",
     "text": [
      "------------------------\n",
      "OPERASI OR\n",
      "------------------------\n",
      "Desimal =  61\n",
      "Binary =  0b111101\n"
     ]
    }
   ],
   "source": [
    "a = 60\n",
    "b = 13\n",
    "\n",
    "#Operasi OR\n",
    "odes = a | b\n",
    "obin = bin(rdes)\n",
    "print('------------------------')\n",
    "print('OPERASI OR')\n",
    "print('------------------------')\n",
    "print('Desimal = ',odes)\n",
    "print('Binary = ',obin)"
   ]
  },
  {
   "cell_type": "code",
   "execution_count": 9,
   "id": "1b4efc62",
   "metadata": {},
   "outputs": [
    {
     "name": "stdout",
     "output_type": "stream",
     "text": [
      "------------------------\n",
      "OPERASI XOR\n",
      "------------------------\n",
      "Desimal =  49\n",
      "Binary =  0b111101\n"
     ]
    }
   ],
   "source": [
    "a = 60\n",
    "b = 13\n",
    "\n",
    "#Operasi XOR\n",
    "odes = a ^ b\n",
    "obin = bin(rdes)\n",
    "print('------------------------')\n",
    "print('OPERASI XOR')\n",
    "print('------------------------')\n",
    "print('Desimal = ',odes)\n",
    "print('Binary = ',obin)"
   ]
  },
  {
   "cell_type": "code",
   "execution_count": 10,
   "id": "06ebfde9",
   "metadata": {},
   "outputs": [
    {
     "name": "stdout",
     "output_type": "stream",
     "text": [
      "------------------------\n",
      "OPERASI Not\n",
      "------------------------\n",
      "Desimal =  -61\n",
      "Binary =  0b111101\n"
     ]
    }
   ],
   "source": [
    "a = 60\n",
    "b = 13\n",
    "\n",
    "#Operasi Not\n",
    "odes = ~a\n",
    "obin = bin(rdes)\n",
    "print('------------------------')\n",
    "print('OPERASI Not')\n",
    "print('------------------------')\n",
    "print('Desimal = ',odes)\n",
    "print('Binary = ',obin)"
   ]
  },
  {
   "cell_type": "code",
   "execution_count": 11,
   "id": "fc6554ab",
   "metadata": {},
   "outputs": [
    {
     "name": "stdout",
     "output_type": "stream",
     "text": [
      "a =  20\n",
      "b =  75\n",
      "\n",
      "=========\n",
      "SOAL 2a\n",
      "=========\n",
      "Operasi AND  =  0\n",
      "Operasi OR =  95\n",
      "Operasi XOR =  95\n",
      "Operasi NOT 20  =  -21\n",
      "Operasi NOT 75  =  -76\n"
     ]
    }
   ],
   "source": [
    "#2. Lakukan kembali keempat operasi diatas (AND, OR, XOR, NOT) untuk nilai variabel:\n",
    "\n",
    "#Soal 2a\n",
    "a = 20\n",
    "b = 75\n",
    "\n",
    "print('a = ',a)\n",
    "print('b = ',b)\n",
    "print('')\n",
    "print('=========')\n",
    "print('SOAL 2a')\n",
    "print('=========')\n",
    "\n",
    "#Operasi And\n",
    "oand = a & b\n",
    "print('Operasi AND  = ',oand)\n",
    "\n",
    "#Operasi Or\n",
    "oor = a | b\n",
    "print('Operasi OR = ',oor)\n",
    "\n",
    "#Operasi Xor\n",
    "oxor = a ^ b\n",
    "print('Operasi XOR = ',oxor)\n",
    "\n",
    "#Operasi Not\n",
    "onota = ~a\n",
    "onotb = ~b\n",
    "print('Operasi NOT',a,' = ',onota)\n",
    "print('Operasi NOT',b,' = ',onotb)"
   ]
  },
  {
   "cell_type": "code",
   "execution_count": 12,
   "id": "10178cac",
   "metadata": {},
   "outputs": [
    {
     "name": "stdout",
     "output_type": "stream",
     "text": [
      "a =  15\n",
      "b =  40\n",
      "\n",
      "=========\n",
      "SOAL 2b\n",
      "=========\n",
      "Operasi AND  =  8\n",
      "Operasi OR =  47\n",
      "Operasi XOR =  39\n",
      "Operasi NOT 15  =  -16\n",
      "Operasi NOT 40  =  -41\n"
     ]
    }
   ],
   "source": [
    "#Soal 2b\n",
    "a = 15\n",
    "b = 40\n",
    "\n",
    "print('a = ',a)\n",
    "print('b = ',b)\n",
    "print('')\n",
    "print('=========')\n",
    "print('SOAL 2b')\n",
    "print('=========')\n",
    "\n",
    "#Operasi And\n",
    "oand = a & b\n",
    "print('Operasi AND  = ',oand)\n",
    "\n",
    "#Operasi Or\n",
    "oor = a | b\n",
    "print('Operasi OR = ',oor)\n",
    "\n",
    "#Operasi Xor\n",
    "oxor = a ^ b\n",
    "print('Operasi XOR = ',oxor)\n",
    "\n",
    "#Operasi Not\n",
    "onota = ~a\n",
    "onotb = ~b\n",
    "print('Operasi NOT',a,' = ',onota)\n",
    "print('Operasi NOT',b,' = ',onotb)"
   ]
  },
  {
   "cell_type": "code",
   "execution_count": 13,
   "id": "23fc4613",
   "metadata": {},
   "outputs": [
    {
     "name": "stdout",
     "output_type": "stream",
     "text": [
      "a =  AF\n",
      "b =  91\n",
      "=========\n",
      "SOAL 3A\n",
      "=========\n",
      "Operasi AND =  11\n",
      "Operasi OR =  255\n",
      "Operasi XOR =  244\n",
      "Operasi NOT AF  =  -176\n",
      "Operasi NOT 91  =  -92\n",
      "a =  50\n",
      "b =  BE\n",
      "=========\n",
      "SOAL 3B\n",
      "=========\n",
      "Operasi AND =  50\n",
      "Operasi OR =  190\n",
      "Operasi XOR =  140\n",
      "Operasi NOT 50  =  -51\n",
      "Operasi NOT BE  =  -191\n"
     ]
    }
   ],
   "source": [
    "#3. Lakukan hal yang sama untuk nilai variabel (dalam bilangan hexa):\n",
    "\n",
    "#Soal 3A\n",
    "a = 'AF'\n",
    "a_des = int(a,16)\n",
    "b = 91\n",
    "\n",
    "print('a = ',a)\n",
    "print('b = ',b)\n",
    "print('=========')\n",
    "print('SOAL 3A')\n",
    "print('=========')\n",
    "\n",
    "#Operasi AND\n",
    "oand = a_des & b\n",
    "print('Operasi AND = ',oand)\n",
    "\n",
    "#Operasi OR\n",
    "oor = a_des | b\n",
    "print('Operasi OR = ',oor)\n",
    "\n",
    "#Operasi XOR\n",
    "oxor = a_des ^ b\n",
    "print('Operasi XOR = ',oxor)\n",
    "\n",
    "#Operasi NOT\n",
    "onota = ~a_des\n",
    "onotb = ~b\n",
    "print('Operasi NOT',a,' = ',onota)\n",
    "print('Operasi NOT',b,' = ',onotb)\n",
    "\n",
    "#Soal 3B\n",
    "a = 50\n",
    "b = 'BE'\n",
    "b_des = int(b,16)\n",
    "\n",
    "print('a = ',a)\n",
    "print('b = ',b)\n",
    "print('=========')\n",
    "print('SOAL 3B')\n",
    "print('=========')\n",
    "\n",
    "#Operasi AND\n",
    "oand2 = a & b_des\n",
    "print('Operasi AND = ',oand2)\n",
    "\n",
    "#Operasi OR\n",
    "oor2 = a | b_des\n",
    "print('Operasi OR = ',oor2)\n",
    "\n",
    "#Operasi XOR\n",
    "oxor2 = a ^ b_des\n",
    "print('Operasi XOR = ',oxor2)\n",
    "\n",
    "#Operasi NOT\n",
    "onota2 = ~a\n",
    "onotb2 = ~b_des\n",
    "print('Operasi NOT',a,' = ',onota2)\n",
    "print('Operasi NOT',b,' = ',onotb2)"
   ]
  },
  {
   "cell_type": "code",
   "execution_count": null,
   "id": "c09f7b22",
   "metadata": {},
   "outputs": [],
   "source": []
  }
 ],
 "metadata": {
  "kernelspec": {
   "display_name": "Python 3",
   "language": "python",
   "name": "python3"
  },
  "language_info": {
   "codemirror_mode": {
    "name": "ipython",
    "version": 3
   },
   "file_extension": ".py",
   "mimetype": "text/x-python",
   "name": "python",
   "nbconvert_exporter": "python",
   "pygments_lexer": "ipython3",
   "version": "3.8.8"
  }
 },
 "nbformat": 4,
 "nbformat_minor": 5
}
